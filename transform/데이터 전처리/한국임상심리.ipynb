{
 "cells": [
  {
   "cell_type": "code",
   "execution_count": 3,
   "id": "be93b5e9-61b1-4bb7-8aea-3e555f7c9004",
   "metadata": {
    "scrolled": true
   },
   "outputs": [
    {
     "data": {
      "text/plain": [
       "<Figure size 1800x1200 with 0 Axes>"
      ]
     },
     "metadata": {},
     "output_type": "display_data"
    }
   ],
   "source": [
    "#데이터 분석에 사용될 모듈\n",
    "import numpy as np\n",
    "import pandas as pd\n",
    "import matplotlib.pyplot as plt\n",
    "plt.figure(dpi=300)\n",
    "\n",
    "#웹 크롤링에 사용될 모듈\n",
    "import requests\n",
    "from bs4 import BeautifulSoup\n",
    "from selenium import webdriver\n",
    "from selenium.webdriver.chrome.service import Service\n",
    "from webdriver_manager.chrome import ChromeDriverManager\n",
    "from selenium.webdriver.common.by import By\n",
    "from selenium.webdriver.common.keys import Keys\n",
    "from time import sleep\n",
    "from pprint import pprint\n",
    "from urllib.request import urlopen, Request\n",
    "\n",
    "#기타\n",
    "import re\n",
    "import json"
   ]
  },
  {
   "cell_type": "code",
   "execution_count": 2,
   "id": "10145fbe",
   "metadata": {},
   "outputs": [
    {
     "name": "stdout",
     "output_type": "stream",
     "text": [
      "Collecting webdriver_manager\n",
      "  Downloading webdriver_manager-3.7.1-py2.py3-none-any.whl (25 kB)\n",
      "Collecting python-dotenv\n",
      "  Downloading python_dotenv-0.20.0-py3-none-any.whl (17 kB)\n",
      "Requirement already satisfied: requests in c:\\users\\by_wh\\anaconda3\\lib\\site-packages (from webdriver_manager) (2.26.0)\n",
      "Requirement already satisfied: urllib3<1.27,>=1.21.1 in c:\\users\\by_wh\\anaconda3\\lib\\site-packages (from requests->webdriver_manager) (1.26.7)\n",
      "Requirement already satisfied: certifi>=2017.4.17 in c:\\users\\by_wh\\anaconda3\\lib\\site-packages (from requests->webdriver_manager) (2021.10.8)\n",
      "Requirement already satisfied: charset-normalizer~=2.0.0 in c:\\users\\by_wh\\anaconda3\\lib\\site-packages (from requests->webdriver_manager) (2.0.4)\n",
      "Requirement already satisfied: idna<4,>=2.5 in c:\\users\\by_wh\\anaconda3\\lib\\site-packages (from requests->webdriver_manager) (3.2)\n",
      "Installing collected packages: python-dotenv, webdriver-manager\n",
      "Successfully installed python-dotenv-0.20.0 webdriver-manager-3.7.1\n"
     ]
    }
   ],
   "source": [
    "!pip install webdriver_manager"
   ]
  },
  {
   "cell_type": "code",
   "execution_count": 4,
   "id": "8dafeee4-e0ce-4ca2-8e65-3922883bc575",
   "metadata": {},
   "outputs": [
    {
     "name": "stdout",
     "output_type": "stream",
     "text": [
      "\n"
     ]
    },
    {
     "name": "stderr",
     "output_type": "stream",
     "text": [
      "[WDM] - ====== WebDriver manager ======\n",
      "[WDM] - Current google-chrome version is 103.0.5060\n",
      "[WDM] - Get LATEST chromedriver version for 103.0.5060 google-chrome\n",
      "[WDM] - There is no [win32] chromedriver for browser 103.0.5060 in cache\n",
      "[WDM] - About to download new driver from https://chromedriver.storage.googleapis.com/103.0.5060.53/chromedriver_win32.zip\n",
      "[WDM] - Driver has been saved in cache [C:\\Users\\by_wh\\.wdm\\drivers\\chromedriver\\win32\\103.0.5060.53]\n",
      "C:\\Users\\by_wh\\AppData\\Local\\Temp/ipykernel_8604/95316588.py:21: DeprecationWarning: find_element_by_class_name is deprecated. Please use find_element(by=By.CLASS_NAME, value=name) instead\n",
      "  driver.find_element_by_class_name('selection').click()\n",
      "C:\\Users\\by_wh\\AppData\\Local\\Temp/ipykernel_8604/95316588.py:23: DeprecationWarning: find_element_by_xpath is deprecated. Please use find_element(by=By.XPATH, value=xpath) instead\n",
      "  driver.find_element_by_xpath(f'/html/body/span/span/span[2]/ul/li[{i}]').click()\n"
     ]
    },
    {
     "name": "stdout",
     "output_type": "stream",
     "text": [
      "[031-780-5437, 02-722-2883, 032-832-2143, 051-704-8610, 02-1811-7755, 051-703-2870, 033-258-2437, 033-252-1375, 070-4459-7196, 010-5099-8713, --, --, 032-321-2841, 010-6836-8836, 033-733-2074]\n",
      "[경기도 성남시 분당구 야탑동 351 기억력센터 2층 (야탑로 59 분당차병원), 서울 종로구 종로3길 34 6층, , 부산시 해운대구 세실로79 부산해운대대교사옥 6층 , 서울 은평구 진관동 93-6 , 부산시 수영구 연수로 332 대한빌딩 4층 501호, 강원도 춘천시 백령로 156 강원대학교병원 정신건강의학과, 백령로 156 (강원대학교병원 어린이병원 B2), 경기도 고양시 일산동구 장대길 64-27, , , , 경기 부천시 중동로248번길 52 네이버시티 201-1호 , , 원주시 입춘로 110 파라다이스프라자 3층 고나영 심리상담연구소]\n",
      "[031-780-5437, 02-722-2883, 032-832-2143, 051-704-8610, 02-1811-7755, 051-703-2870, 033-258-2437, 033-252-1375, 070-4459-7196, 010-5099-8713, --, --, 032-321-2841, 010-6836-8836, 033-733-2074]\n",
      "[경기도 성남시 분당구 야탑동 351 기억력센터 2층 (야탑로 59 분당차병원), 서울 종로구 종로3길 34 6층, , 부산시 해운대구 세실로79 부산해운대대교사옥 6층 , 서울 은평구 진관동 93-6 , 부산시 수영구 연수로 332 대한빌딩 4층 501호, 강원도 춘천시 백령로 156 강원대학교병원 정신건강의학과, 백령로 156 (강원대학교병원 어린이병원 B2), 경기도 고양시 일산동구 장대길 64-27, , , , 경기 부천시 중동로248번길 52 네이버시티 201-1호 , , 원주시 입춘로 110 파라다이스프라자 3층 고나영 심리상담연구소]\n",
      "[031-780-5437, 02-722-2883, 032-832-2143, 051-704-8610, 02-1811-7755, 051-703-2870, 033-258-2437, 033-252-1375, 070-4459-7196, 010-5099-8713, --, --, 032-321-2841, 010-6836-8836, 033-733-2074]\n",
      "[경기도 성남시 분당구 야탑동 351 기억력센터 2층 (야탑로 59 분당차병원), 서울 종로구 종로3길 34 6층, , 부산시 해운대구 세실로79 부산해운대대교사옥 6층 , 서울 은평구 진관동 93-6 , 부산시 수영구 연수로 332 대한빌딩 4층 501호, 강원도 춘천시 백령로 156 강원대학교병원 정신건강의학과, 백령로 156 (강원대학교병원 어린이병원 B2), 경기도 고양시 일산동구 장대길 64-27, , , , 경기 부천시 중동로248번길 52 네이버시티 201-1호 , , 원주시 입춘로 110 파라다이스프라자 3층 고나영 심리상담연구소]\n",
      "[031-780-5437, 02-722-2883, 032-832-2143, 051-704-8610, 02-1811-7755, 051-703-2870, 033-258-2437, 033-252-1375, 070-4459-7196, 010-5099-8713, --, --, 032-321-2841, 010-6836-8836, 033-733-2074]\n",
      "[경기도 성남시 분당구 야탑동 351 기억력센터 2층 (야탑로 59 분당차병원), 서울 종로구 종로3길 34 6층, , 부산시 해운대구 세실로79 부산해운대대교사옥 6층 , 서울 은평구 진관동 93-6 , 부산시 수영구 연수로 332 대한빌딩 4층 501호, 강원도 춘천시 백령로 156 강원대학교병원 정신건강의학과, 백령로 156 (강원대학교병원 어린이병원 B2), 경기도 고양시 일산동구 장대길 64-27, , , , 경기 부천시 중동로248번길 52 네이버시티 201-1호 , , 원주시 입춘로 110 파라다이스프라자 3층 고나영 심리상담연구소]\n",
      "[031-780-5437, 02-722-2883, 032-832-2143, 051-704-8610, 02-1811-7755, 051-703-2870, 033-258-2437, 033-252-1375, 070-4459-7196, 010-5099-8713, --, --, 032-321-2841, 010-6836-8836, 033-733-2074]\n",
      "[경기도 성남시 분당구 야탑동 351 기억력센터 2층 (야탑로 59 분당차병원), 서울 종로구 종로3길 34 6층, , 부산시 해운대구 세실로79 부산해운대대교사옥 6층 , 서울 은평구 진관동 93-6 , 부산시 수영구 연수로 332 대한빌딩 4층 501호, 강원도 춘천시 백령로 156 강원대학교병원 정신건강의학과, 백령로 156 (강원대학교병원 어린이병원 B2), 경기도 고양시 일산동구 장대길 64-27, , , , 경기 부천시 중동로248번길 52 네이버시티 201-1호 , , 원주시 입춘로 110 파라다이스프라자 3층 고나영 심리상담연구소]\n",
      "[031-780-5437, 02-722-2883, 032-832-2143, 051-704-8610, 02-1811-7755, 051-703-2870, 033-258-2437, 033-252-1375, 070-4459-7196, 010-5099-8713, --, --, 032-321-2841, 010-6836-8836, 033-733-2074]\n",
      "[경기도 성남시 분당구 야탑동 351 기억력센터 2층 (야탑로 59 분당차병원), 서울 종로구 종로3길 34 6층, , 부산시 해운대구 세실로79 부산해운대대교사옥 6층 , 서울 은평구 진관동 93-6 , 부산시 수영구 연수로 332 대한빌딩 4층 501호, 강원도 춘천시 백령로 156 강원대학교병원 정신건강의학과, 백령로 156 (강원대학교병원 어린이병원 B2), 경기도 고양시 일산동구 장대길 64-27, , , , 경기 부천시 중동로248번길 52 네이버시티 201-1호 , , 원주시 입춘로 110 파라다이스프라자 3층 고나영 심리상담연구소]\n",
      "[031-780-5437, 02-722-2883, 032-832-2143, 051-704-8610, 02-1811-7755, 051-703-2870, 033-258-2437, 033-252-1375, 070-4459-7196, 010-5099-8713, --, --, 032-321-2841, 010-6836-8836, 033-733-2074]\n",
      "[경기도 성남시 분당구 야탑동 351 기억력센터 2층 (야탑로 59 분당차병원), 서울 종로구 종로3길 34 6층, , 부산시 해운대구 세실로79 부산해운대대교사옥 6층 , 서울 은평구 진관동 93-6 , 부산시 수영구 연수로 332 대한빌딩 4층 501호, 강원도 춘천시 백령로 156 강원대학교병원 정신건강의학과, 백령로 156 (강원대학교병원 어린이병원 B2), 경기도 고양시 일산동구 장대길 64-27, , , , 경기 부천시 중동로248번길 52 네이버시티 201-1호 , , 원주시 입춘로 110 파라다이스프라자 3층 고나영 심리상담연구소]\n",
      "[031-780-5437, 02-722-2883, 032-832-2143, 051-704-8610, 02-1811-7755, 051-703-2870, 033-258-2437, 033-252-1375, 070-4459-7196, 010-5099-8713, --, --, 032-321-2841, 010-6836-8836, 033-733-2074]\n",
      "[경기도 성남시 분당구 야탑동 351 기억력센터 2층 (야탑로 59 분당차병원), 서울 종로구 종로3길 34 6층, , 부산시 해운대구 세실로79 부산해운대대교사옥 6층 , 서울 은평구 진관동 93-6 , 부산시 수영구 연수로 332 대한빌딩 4층 501호, 강원도 춘천시 백령로 156 강원대학교병원 정신건강의학과, 백령로 156 (강원대학교병원 어린이병원 B2), 경기도 고양시 일산동구 장대길 64-27, , , , 경기 부천시 중동로248번길 52 네이버시티 201-1호 , , 원주시 입춘로 110 파라다이스프라자 3층 고나영 심리상담연구소]\n",
      "[031-780-5437, 02-722-2883, 032-832-2143, 051-704-8610, 02-1811-7755, 051-703-2870, 033-258-2437, 033-252-1375, 070-4459-7196, 010-5099-8713, --, --, 032-321-2841, 010-6836-8836, 033-733-2074]\n",
      "[경기도 성남시 분당구 야탑동 351 기억력센터 2층 (야탑로 59 분당차병원), 서울 종로구 종로3길 34 6층, , 부산시 해운대구 세실로79 부산해운대대교사옥 6층 , 서울 은평구 진관동 93-6 , 부산시 수영구 연수로 332 대한빌딩 4층 501호, 강원도 춘천시 백령로 156 강원대학교병원 정신건강의학과, 백령로 156 (강원대학교병원 어린이병원 B2), 경기도 고양시 일산동구 장대길 64-27, , , , 경기 부천시 중동로248번길 52 네이버시티 201-1호 , , 원주시 입춘로 110 파라다이스프라자 3층 고나영 심리상담연구소]\n",
      "[031-780-5437, 02-722-2883, 032-832-2143, 051-704-8610, 02-1811-7755, 051-703-2870, 033-258-2437, 033-252-1375, 070-4459-7196, 010-5099-8713, --, --, 032-321-2841, 010-6836-8836, 033-733-2074]\n",
      "[경기도 성남시 분당구 야탑동 351 기억력센터 2층 (야탑로 59 분당차병원), 서울 종로구 종로3길 34 6층, , 부산시 해운대구 세실로79 부산해운대대교사옥 6층 , 서울 은평구 진관동 93-6 , 부산시 수영구 연수로 332 대한빌딩 4층 501호, 강원도 춘천시 백령로 156 강원대학교병원 정신건강의학과, 백령로 156 (강원대학교병원 어린이병원 B2), 경기도 고양시 일산동구 장대길 64-27, , , , 경기 부천시 중동로248번길 52 네이버시티 201-1호 , , 원주시 입춘로 110 파라다이스프라자 3층 고나영 심리상담연구소]\n",
      "[031-780-5437, 02-722-2883, 032-832-2143, 051-704-8610, 02-1811-7755, 051-703-2870, 033-258-2437, 033-252-1375, 070-4459-7196, 010-5099-8713, --, --, 032-321-2841, 010-6836-8836, 033-733-2074]\n",
      "[경기도 성남시 분당구 야탑동 351 기억력센터 2층 (야탑로 59 분당차병원), 서울 종로구 종로3길 34 6층, , 부산시 해운대구 세실로79 부산해운대대교사옥 6층 , 서울 은평구 진관동 93-6 , 부산시 수영구 연수로 332 대한빌딩 4층 501호, 강원도 춘천시 백령로 156 강원대학교병원 정신건강의학과, 백령로 156 (강원대학교병원 어린이병원 B2), 경기도 고양시 일산동구 장대길 64-27, , , , 경기 부천시 중동로248번길 52 네이버시티 201-1호 , , 원주시 입춘로 110 파라다이스프라자 3층 고나영 심리상담연구소]\n",
      "[031-780-5437, 02-722-2883, 032-832-2143, 051-704-8610, 02-1811-7755, 051-703-2870, 033-258-2437, 033-252-1375, 070-4459-7196, 010-5099-8713, --, --, 032-321-2841, 010-6836-8836, 033-733-2074]\n",
      "[경기도 성남시 분당구 야탑동 351 기억력센터 2층 (야탑로 59 분당차병원), 서울 종로구 종로3길 34 6층, , 부산시 해운대구 세실로79 부산해운대대교사옥 6층 , 서울 은평구 진관동 93-6 , 부산시 수영구 연수로 332 대한빌딩 4층 501호, 강원도 춘천시 백령로 156 강원대학교병원 정신건강의학과, 백령로 156 (강원대학교병원 어린이병원 B2), 경기도 고양시 일산동구 장대길 64-27, , , , 경기 부천시 중동로248번길 52 네이버시티 201-1호 , , 원주시 입춘로 110 파라다이스프라자 3층 고나영 심리상담연구소]\n",
      "[031-780-5437, 02-722-2883, 032-832-2143, 051-704-8610, 02-1811-7755, 051-703-2870, 033-258-2437, 033-252-1375, 070-4459-7196, 010-5099-8713, --, --, 032-321-2841, 010-6836-8836, 033-733-2074]\n",
      "[경기도 성남시 분당구 야탑동 351 기억력센터 2층 (야탑로 59 분당차병원), 서울 종로구 종로3길 34 6층, , 부산시 해운대구 세실로79 부산해운대대교사옥 6층 , 서울 은평구 진관동 93-6 , 부산시 수영구 연수로 332 대한빌딩 4층 501호, 강원도 춘천시 백령로 156 강원대학교병원 정신건강의학과, 백령로 156 (강원대학교병원 어린이병원 B2), 경기도 고양시 일산동구 장대길 64-27, , , , 경기 부천시 중동로248번길 52 네이버시티 201-1호 , , 원주시 입춘로 110 파라다이스프라자 3층 고나영 심리상담연구소]\n",
      "[031-780-5437, 02-722-2883, 032-832-2143, 051-704-8610, 02-1811-7755, 051-703-2870, 033-258-2437, 033-252-1375, 070-4459-7196, 010-5099-8713, --, --, 032-321-2841, 010-6836-8836, 033-733-2074]\n",
      "[경기도 성남시 분당구 야탑동 351 기억력센터 2층 (야탑로 59 분당차병원), 서울 종로구 종로3길 34 6층, , 부산시 해운대구 세실로79 부산해운대대교사옥 6층 , 서울 은평구 진관동 93-6 , 부산시 수영구 연수로 332 대한빌딩 4층 501호, 강원도 춘천시 백령로 156 강원대학교병원 정신건강의학과, 백령로 156 (강원대학교병원 어린이병원 B2), 경기도 고양시 일산동구 장대길 64-27, , , , 경기 부천시 중동로248번길 52 네이버시티 201-1호 , , 원주시 입춘로 110 파라다이스프라자 3층 고나영 심리상담연구소]\n",
      "[031-780-5437, 02-722-2883, 032-832-2143, 051-704-8610, 02-1811-7755, 051-703-2870, 033-258-2437, 033-252-1375, 070-4459-7196, 010-5099-8713, --, --, 032-321-2841, 010-6836-8836, 033-733-2074]\n",
      "[경기도 성남시 분당구 야탑동 351 기억력센터 2층 (야탑로 59 분당차병원), 서울 종로구 종로3길 34 6층, , 부산시 해운대구 세실로79 부산해운대대교사옥 6층 , 서울 은평구 진관동 93-6 , 부산시 수영구 연수로 332 대한빌딩 4층 501호, 강원도 춘천시 백령로 156 강원대학교병원 정신건강의학과, 백령로 156 (강원대학교병원 어린이병원 B2), 경기도 고양시 일산동구 장대길 64-27, , , , 경기 부천시 중동로248번길 52 네이버시티 201-1호 , , 원주시 입춘로 110 파라다이스프라자 3층 고나영 심리상담연구소]\n",
      "[031-780-5437, 02-722-2883, 032-832-2143, 051-704-8610, 02-1811-7755, 051-703-2870, 033-258-2437, 033-252-1375, 070-4459-7196, 010-5099-8713, --, --, 032-321-2841, 010-6836-8836, 033-733-2074]\n",
      "[경기도 성남시 분당구 야탑동 351 기억력센터 2층 (야탑로 59 분당차병원), 서울 종로구 종로3길 34 6층, , 부산시 해운대구 세실로79 부산해운대대교사옥 6층 , 서울 은평구 진관동 93-6 , 부산시 수영구 연수로 332 대한빌딩 4층 501호, 강원도 춘천시 백령로 156 강원대학교병원 정신건강의학과, 백령로 156 (강원대학교병원 어린이병원 B2), 경기도 고양시 일산동구 장대길 64-27, , , , 경기 부천시 중동로248번길 52 네이버시티 201-1호 , , 원주시 입춘로 110 파라다이스프라자 3층 고나영 심리상담연구소]\n",
      "[031-780-5437, 02-722-2883, 032-832-2143, 051-704-8610, 02-1811-7755, 051-703-2870, 033-258-2437, 033-252-1375, 070-4459-7196, 010-5099-8713, --, --, 032-321-2841, 010-6836-8836, 033-733-2074]\n",
      "[경기도 성남시 분당구 야탑동 351 기억력센터 2층 (야탑로 59 분당차병원), 서울 종로구 종로3길 34 6층, , 부산시 해운대구 세실로79 부산해운대대교사옥 6층 , 서울 은평구 진관동 93-6 , 부산시 수영구 연수로 332 대한빌딩 4층 501호, 강원도 춘천시 백령로 156 강원대학교병원 정신건강의학과, 백령로 156 (강원대학교병원 어린이병원 B2), 경기도 고양시 일산동구 장대길 64-27, , , , 경기 부천시 중동로248번길 52 네이버시티 201-1호 , , 원주시 입춘로 110 파라다이스프라자 3층 고나영 심리상담연구소]\n"
     ]
    }
   ],
   "source": [
    "service = Service(executable_path=ChromeDriverManager().install())\n",
    "driver = webdriver.Chrome(service=service)\n",
    "target_url='https://www.kcp.or.kr/new/psychologistManagement/list.asp?listType=2'\n",
    "driver.get(target_url)\n",
    "soup = BeautifulSoup(driver.page_source, 'html.parser')\n",
    "#print(soup.prettify())\n",
    "\n",
    "#셀레늄이 driver, bs4가 soup\n",
    "\n",
    "#한 페이지의 전화번호와 주소 가져오기\n",
    "phone_and_adress= soup.select('ul>li>small')\n",
    "#원소에 붙은 html태그 지우기\n",
    "#변환후_문자열=re.sub('치환하고자_하는_문자열','치환될_문자열',문자열소스)을 이용하면 됨\n",
    "\n",
    "\n",
    "# 창 아래로 내리기\n",
    "driver.execute_script(\"window.scrollTo(0, 300)\")\n",
    "\n",
    "#시/도 선택 2번째 argument는 시/도의 갯수+2\n",
    "for i in range(2,2+len(soup.select('[id=\"cityi\"]>option')[1:])):\n",
    "    driver.find_element_by_class_name('selection').click()\n",
    "    sleep(3)\n",
    "    driver.find_element_by_xpath(f'/html/body/span/span/span[2]/ul/li[{i}]').click()\n",
    "    sleep(3)\n",
    "    #lst=soup.select('[class=\"text-center vm\"]>span')\n",
    "    phone_and_adress= soup.select('ul>li>small')\n",
    "    phone_lst_source=str(phone_and_adress[0::2])\n",
    "    adress_lst_source=str(phone_and_adress[1::2])\n",
    "    phone_lst=re.sub('<.+?>', '', phone_lst_source, 0).strip()\n",
    "    adress_lst=re.sub('<.+?>', '', adress_lst_source, 0).strip()\n",
    "    print(phone_lst)\n",
    "    print(adress_lst)\n",
    "\n",
    "\n",
    "    \n"
   ]
  },
  {
   "cell_type": "code",
   "execution_count": 5,
   "id": "b7d04c76-6659-4f4e-a351-35a62d330319",
   "metadata": {},
   "outputs": [
    {
     "name": "stdout",
     "output_type": "stream",
     "text": [
      "\n"
     ]
    },
    {
     "name": "stderr",
     "output_type": "stream",
     "text": [
      "[WDM] - ====== WebDriver manager ======\n",
      "[WDM] - Current google-chrome version is 103.0.5060\n",
      "[WDM] - Get LATEST chromedriver version for 103.0.5060 google-chrome\n",
      "[WDM] - Driver [C:\\Users\\by_wh\\.wdm\\drivers\\chromedriver\\win32\\103.0.5060.53\\chromedriver.exe] found in cache\n"
     ]
    },
    {
     "ename": "NameError",
     "evalue": "name 'url' is not defined",
     "output_type": "error",
     "traceback": [
      "\u001b[1;31m---------------------------------------------------------------------------\u001b[0m",
      "\u001b[1;31mNameError\u001b[0m                                 Traceback (most recent call last)",
      "\u001b[1;32m~\\AppData\\Local\\Temp/ipykernel_8604/2286204739.py\u001b[0m in \u001b[0;36m<module>\u001b[1;34m\u001b[0m\n\u001b[0;32m     11\u001b[0m      }\n\u001b[0;32m     12\u001b[0m \u001b[1;33m\u001b[0m\u001b[0m\n\u001b[1;32m---> 13\u001b[1;33m \u001b[0mresponse\u001b[0m \u001b[1;33m=\u001b[0m \u001b[0mrequests\u001b[0m\u001b[1;33m.\u001b[0m\u001b[0mpost\u001b[0m\u001b[1;33m(\u001b[0m\u001b[0murl\u001b[0m\u001b[1;33m,\u001b[0m \u001b[0mheaders\u001b[0m\u001b[1;33m=\u001b[0m\u001b[0mheader\u001b[0m\u001b[1;33m)\u001b[0m\u001b[1;33m\u001b[0m\u001b[1;33m\u001b[0m\u001b[0m\n\u001b[0m\u001b[0;32m     14\u001b[0m \u001b[0mprint\u001b[0m\u001b[1;33m(\u001b[0m\u001b[0mresponse\u001b[0m\u001b[1;33m.\u001b[0m\u001b[0mtext\u001b[0m\u001b[1;33m)\u001b[0m\u001b[1;33m\u001b[0m\u001b[1;33m\u001b[0m\u001b[0m\n\u001b[0;32m     15\u001b[0m \u001b[1;33m\u001b[0m\u001b[0m\n",
      "\u001b[1;31mNameError\u001b[0m: name 'url' is not defined"
     ]
    }
   ],
   "source": [
    "#카카오맵 크롤링 시작\n",
    "service = Service(executable_path=ChromeDriverManager().install())\n",
    "driver = webdriver.Chrome(service=service)\n",
    "target_url='https://www.kcp.or.kr/new/psychologistManagement/list.asp?listType=2'\n",
    "driver.get(target_url)\n",
    "soup = BeautifulSoup(driver.page_source, 'html.parser')\n",
    "resp= requests.post('https://www.kcp.or.kr/user/psychologistManagement/listMain.asp')\n",
    "header = {\n",
    "    'user-agent': 'Mozilla/5.0 (Macintosh; Intel Mac OS X 10_15_7) AppleWebKit/537.36 (KHTML, like Gecko) Chrome/103.0.5060.53 Safari/537.36',\n",
    "    'Referer': 'https://www.kcp.or.kr/new/psychologistManagement/list.asp?listType=2'\n",
    "     }\n",
    "\n",
    "response = requests.post(url, headers=header)\n",
    "print(response.text)\n",
    "\n",
    "#print(soup.prettify())\n",
    "\n",
    "#셀레늄이 driver, bs4가 soup\n",
    "\n",
    "#검색되는 총 임상심리사 상담소 수\n",
    "total_number_source=str(soup.select('tbody>tr>td>span>span'))\n",
    "total_number=int(re.sub('<.+?>|[|]', '', total_numbers_source, 0).strip().replace(\"[\",\"\").replace(\"]\",\"\"))\n",
    "\n",
    "\n",
    "print(soup.find('tbody>tr>td>span').text)\n",
    "\n",
    "\n",
    "# 창 아래로 내리기\n",
    "driver.execute_script(\"window.scrollTo(0, 300)\")\n",
    "\n",
    "#시/도 선택 2번째 argument는 시/도의 갯수+2\n",
    "\n",
    "\n",
    "    \n",
    "\n",
    "    \n",
    "# print(cities_and_provinces_source)\n",
    "\n",
    "\n",
    "# /html/body/span/span/span[2]/ul/li[2]\n",
    "# /html/body/span/span/span[2]/ul/li[3]\n",
    "# ..\n",
    "# /html/body/span/span/span[2]/ul/li[18]\n"
   ]
  },
  {
   "cell_type": "code",
   "execution_count": null,
   "id": "7945cba3-112c-44e3-98ed-ced3118d477d",
   "metadata": {},
   "outputs": [],
   "source": []
  }
 ],
 "metadata": {
  "kernelspec": {
   "display_name": "Python 3 (ipykernel)",
   "language": "python",
   "name": "python3"
  },
  "language_info": {
   "codemirror_mode": {
    "name": "ipython",
    "version": 3
   },
   "file_extension": ".py",
   "mimetype": "text/x-python",
   "name": "python",
   "nbconvert_exporter": "python",
   "pygments_lexer": "ipython3",
   "version": "3.9.7"
  }
 },
 "nbformat": 4,
 "nbformat_minor": 5
}
