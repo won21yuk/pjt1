{
 "cells": [
  {
   "cell_type": "code",
   "execution_count": 23,
   "id": "212f7c41",
   "metadata": {},
   "outputs": [
    {
     "data": {
      "text/html": [
       "<div>\n",
       "<style scoped>\n",
       "    .dataframe tbody tr th:only-of-type {\n",
       "        vertical-align: middle;\n",
       "    }\n",
       "\n",
       "    .dataframe tbody tr th {\n",
       "        vertical-align: top;\n",
       "    }\n",
       "\n",
       "    .dataframe thead th {\n",
       "        text-align: right;\n",
       "    }\n",
       "</style>\n",
       "<table border=\"1\" class=\"dataframe\">\n",
       "  <thead>\n",
       "    <tr style=\"text-align: right;\">\n",
       "      <th></th>\n",
       "      <th>좌표정보(x)</th>\n",
       "      <th>좌표정보(y)</th>\n",
       "    </tr>\n",
       "  </thead>\n",
       "  <tbody>\n",
       "    <tr>\n",
       "      <th>0</th>\n",
       "      <td>299970.3318</td>\n",
       "      <td>176114.7080</td>\n",
       "    </tr>\n",
       "    <tr>\n",
       "      <th>1</th>\n",
       "      <td>299722.4204</td>\n",
       "      <td>177131.7783</td>\n",
       "    </tr>\n",
       "    <tr>\n",
       "      <th>2</th>\n",
       "      <td>297272.3901</td>\n",
       "      <td>159579.1491</td>\n",
       "    </tr>\n",
       "    <tr>\n",
       "      <th>3</th>\n",
       "      <td>394946.0000</td>\n",
       "      <td>213423.0000</td>\n",
       "    </tr>\n",
       "    <tr>\n",
       "      <th>4</th>\n",
       "      <td>337000.3444</td>\n",
       "      <td>232019.5924</td>\n",
       "    </tr>\n",
       "    <tr>\n",
       "      <th>...</th>\n",
       "      <td>...</td>\n",
       "      <td>...</td>\n",
       "    </tr>\n",
       "    <tr>\n",
       "      <th>4373</th>\n",
       "      <td>330015.5640</td>\n",
       "      <td>410050.9824</td>\n",
       "    </tr>\n",
       "    <tr>\n",
       "      <th>4374</th>\n",
       "      <td>277834.5715</td>\n",
       "      <td>465448.8405</td>\n",
       "    </tr>\n",
       "    <tr>\n",
       "      <th>4375</th>\n",
       "      <td>287814.9568</td>\n",
       "      <td>426438.3922</td>\n",
       "    </tr>\n",
       "    <tr>\n",
       "      <th>4376</th>\n",
       "      <td>302989.2568</td>\n",
       "      <td>508172.7999</td>\n",
       "    </tr>\n",
       "    <tr>\n",
       "      <th>4377</th>\n",
       "      <td>231180.8067</td>\n",
       "      <td>316902.5708</td>\n",
       "    </tr>\n",
       "  </tbody>\n",
       "</table>\n",
       "<p>4378 rows × 2 columns</p>\n",
       "</div>"
      ],
      "text/plain": [
       "          좌표정보(x)      좌표정보(y)\n",
       "0     299970.3318  176114.7080\n",
       "1     299722.4204  177131.7783\n",
       "2     297272.3901  159579.1491\n",
       "3     394946.0000  213423.0000\n",
       "4     337000.3444  232019.5924\n",
       "...           ...          ...\n",
       "4373  330015.5640  410050.9824\n",
       "4374  277834.5715  465448.8405\n",
       "4375  287814.9568  426438.3922\n",
       "4376  302989.2568  508172.7999\n",
       "4377  231180.8067  316902.5708\n",
       "\n",
       "[4378 rows x 2 columns]"
      ]
     },
     "execution_count": 23,
     "metadata": {},
     "output_type": "execute_result"
    }
   ],
   "source": [
    "import pandas as pd\n",
    "import numpy as np\n",
    "import pyproj\n",
    "import folium\n",
    "\n",
    "\n",
    "df = pd.read_csv('./hostipal.csv', encoding='cp949', usecols=['좌표정보(x)', '좌표정보(y)'])\n",
    "\n",
    "\n",
    "\n",
    "df['좌표정보(x)'] = pd.to_numeric(df['좌표정보(x)'], errors='coerce')\n",
    "df['좌표정보(y)'] = pd.to_numeric(df['좌표정보(y)'], errors='coerce')\n",
    "\n",
    "df = df.dropna() #NaN값이 잇는 데이터 제거하기\n",
    "df.index = range(len(df))\n",
    "df"
   ]
  },
  {
   "cell_type": "code",
   "execution_count": 25,
   "id": "f6ddc677",
   "metadata": {},
   "outputs": [],
   "source": [
    "def project_array(coord, p1_type, p2_type):\n",
    "    \"\"\"\n",
    "    좌표계 변환 함수\n",
    "    - coord: x, y 좌표 정보가 담긴 NumPy Array\n",
    "    - p1_type: 입력 좌표계 정보 ex) epsg:5179\n",
    "    - p2_type: 출력 좌표계 정보 ex) epsg:4326\n",
    "    \"\"\"\n",
    "    p1 = pyproj.Proj(init=p1_type)\n",
    "    p2 = pyproj.Proj(init=p2_type)\n",
    "    fx, fy = pyproj.transform(p1, p2, coord[:, 0], coord[:, 1])\n",
    "    return np.dstack([fx, fy])[0]"
   ]
  },
  {
   "cell_type": "code",
   "execution_count": 26,
   "id": "2538c3e1",
   "metadata": {},
   "outputs": [
    {
     "data": {
      "text/plain": [
       "array([[299970.3318, 176114.708 ],\n",
       "       [299722.4204, 177131.7783],\n",
       "       [297272.3901, 159579.1491],\n",
       "       ...,\n",
       "       [287814.9568, 426438.3922],\n",
       "       [302989.2568, 508172.7999],\n",
       "       [231180.8067, 316902.5708]])"
      ]
     },
     "execution_count": 26,
     "metadata": {},
     "output_type": "execute_result"
    }
   ],
   "source": [
    "coord = np.array(df)\n",
    "\n",
    "coord"
   ]
  },
  {
   "cell_type": "code",
   "execution_count": 27,
   "id": "a22f8769",
   "metadata": {},
   "outputs": [
    {
     "name": "stderr",
     "output_type": "stream",
     "text": [
      "C:\\Users\\by_wh\\anaconda3\\lib\\site-packages\\pyproj\\crs\\crs.py:130: FutureWarning: '+init=<authority>:<code>' syntax is deprecated. '<authority>:<code>' is the preferred initialization method. When making the change, be mindful of axis order changes: https://pyproj4.github.io/pyproj/stable/gotchas.html#axis-order-changes-in-proj-6\n",
      "  in_crs_string = _prepare_from_proj_string(in_crs_string)\n",
      "C:\\Users\\by_wh\\anaconda3\\lib\\site-packages\\pyproj\\crs\\crs.py:130: FutureWarning: '+init=<authority>:<code>' syntax is deprecated. '<authority>:<code>' is the preferred initialization method. When making the change, be mindful of axis order changes: https://pyproj4.github.io/pyproj/stable/gotchas.html#axis-order-changes-in-proj-6\n",
      "  in_crs_string = _prepare_from_proj_string(in_crs_string)\n",
      "C:\\Users\\by_wh\\AppData\\Local\\Temp/ipykernel_17840/3581348372.py:10: DeprecationWarning: This function is deprecated. See: https://pyproj4.github.io/pyproj/stable/gotchas.html#upgrading-to-pyproj-2-from-pyproj-1\n",
      "  fx, fy = pyproj.transform(p1, p2, coord[:, 0], coord[:, 1])\n"
     ]
    },
    {
     "data": {
      "text/plain": [
       "array([[128.0940537 ,  35.07912326],\n",
       "       [128.09145814,  35.08831363],\n",
       "       [128.06254526,  34.93036481],\n",
       "       ...,\n",
       "       [127.98880983,  37.33583272],\n",
       "       [128.1715528 ,  38.07052359],\n",
       "       [127.34528268,  36.35244731]])"
      ]
     },
     "execution_count": 27,
     "metadata": {},
     "output_type": "execute_result"
    }
   ],
   "source": [
    "p1_type = \"epsg:2097\"\n",
    "p2_type = \"epsg:4326\"\n",
    "\n",
    "result = project_array(coord, p1_type, p2_type)\n",
    "result"
   ]
  },
  {
   "cell_type": "code",
   "execution_count": 32,
   "id": "ed66971f",
   "metadata": {},
   "outputs": [
    {
     "data": {
      "text/html": [
       "<div>\n",
       "<style scoped>\n",
       "    .dataframe tbody tr th:only-of-type {\n",
       "        vertical-align: middle;\n",
       "    }\n",
       "\n",
       "    .dataframe tbody tr th {\n",
       "        vertical-align: top;\n",
       "    }\n",
       "\n",
       "    .dataframe thead th {\n",
       "        text-align: right;\n",
       "    }\n",
       "</style>\n",
       "<table border=\"1\" class=\"dataframe\">\n",
       "  <thead>\n",
       "    <tr style=\"text-align: right;\">\n",
       "      <th></th>\n",
       "      <th>좌표정보(x)</th>\n",
       "      <th>좌표정보(y)</th>\n",
       "      <th>경도</th>\n",
       "      <th>위도</th>\n",
       "    </tr>\n",
       "  </thead>\n",
       "  <tbody>\n",
       "    <tr>\n",
       "      <th>4373</th>\n",
       "      <td>330015.5640</td>\n",
       "      <td>410050.9824</td>\n",
       "      <td>128.462026</td>\n",
       "      <td>37.183282</td>\n",
       "    </tr>\n",
       "    <tr>\n",
       "      <th>4374</th>\n",
       "      <td>277834.5715</td>\n",
       "      <td>465448.8405</td>\n",
       "      <td>127.880328</td>\n",
       "      <td>37.688163</td>\n",
       "    </tr>\n",
       "    <tr>\n",
       "      <th>4375</th>\n",
       "      <td>287814.9568</td>\n",
       "      <td>426438.3922</td>\n",
       "      <td>127.988810</td>\n",
       "      <td>37.335833</td>\n",
       "    </tr>\n",
       "    <tr>\n",
       "      <th>4376</th>\n",
       "      <td>302989.2568</td>\n",
       "      <td>508172.7999</td>\n",
       "      <td>128.171553</td>\n",
       "      <td>38.070524</td>\n",
       "    </tr>\n",
       "    <tr>\n",
       "      <th>4377</th>\n",
       "      <td>231180.8067</td>\n",
       "      <td>316902.5708</td>\n",
       "      <td>127.345283</td>\n",
       "      <td>36.352447</td>\n",
       "    </tr>\n",
       "  </tbody>\n",
       "</table>\n",
       "</div>"
      ],
      "text/plain": [
       "          좌표정보(x)      좌표정보(y)          경도         위도\n",
       "4373  330015.5640  410050.9824  128.462026  37.183282\n",
       "4374  277834.5715  465448.8405  127.880328  37.688163\n",
       "4375  287814.9568  426438.3922  127.988810  37.335833\n",
       "4376  302989.2568  508172.7999  128.171553  38.070524\n",
       "4377  231180.8067  316902.5708  127.345283  36.352447"
      ]
     },
     "execution_count": 32,
     "metadata": {},
     "output_type": "execute_result"
    }
   ],
   "source": [
    "df['경도'] = result[:, 0]\n",
    "df['위도'] = result[:, 1]\n",
    "\n",
    "df.tail()\n",
    "\n",
    "\n"
   ]
  },
  {
   "cell_type": "code",
   "execution_count": 38,
   "id": "dc230225",
   "metadata": {},
   "outputs": [
    {
     "data": {
      "text/html": [
       "<div>\n",
       "<style scoped>\n",
       "    .dataframe tbody tr th:only-of-type {\n",
       "        vertical-align: middle;\n",
       "    }\n",
       "\n",
       "    .dataframe tbody tr th {\n",
       "        vertical-align: top;\n",
       "    }\n",
       "\n",
       "    .dataframe thead th {\n",
       "        text-align: right;\n",
       "    }\n",
       "</style>\n",
       "<table border=\"1\" class=\"dataframe\">\n",
       "  <thead>\n",
       "    <tr style=\"text-align: right;\">\n",
       "      <th></th>\n",
       "      <th>longitude</th>\n",
       "      <th>latitude</th>\n",
       "    </tr>\n",
       "    <tr>\n",
       "      <th>corp_name</th>\n",
       "      <th></th>\n",
       "      <th></th>\n",
       "    </tr>\n",
       "  </thead>\n",
       "  <tbody>\n",
       "    <tr>\n",
       "      <th>란약국</th>\n",
       "      <td>193786.8302</td>\n",
       "      <td>185954.5194</td>\n",
       "    </tr>\n",
       "    <tr>\n",
       "      <th>메디팜건강약국</th>\n",
       "      <td>194075.2441</td>\n",
       "      <td>184984.4186</td>\n",
       "    </tr>\n",
       "    <tr>\n",
       "      <th>좋은약국</th>\n",
       "      <td>193146.4005</td>\n",
       "      <td>186088.1065</td>\n",
       "    </tr>\n",
       "    <tr>\n",
       "      <th>라포약국</th>\n",
       "      <td>194270.1072</td>\n",
       "      <td>184985.2783</td>\n",
       "    </tr>\n",
       "    <tr>\n",
       "      <th>뷰티온누리약국</th>\n",
       "      <td>190911.6877</td>\n",
       "      <td>187580.1799</td>\n",
       "    </tr>\n",
       "    <tr>\n",
       "      <th>...</th>\n",
       "      <td>...</td>\n",
       "      <td>...</td>\n",
       "    </tr>\n",
       "    <tr>\n",
       "      <th>산들약국</th>\n",
       "      <td>212334.9585</td>\n",
       "      <td>450346.7907</td>\n",
       "    </tr>\n",
       "    <tr>\n",
       "      <th>바라기한약국</th>\n",
       "      <td>204393.9045</td>\n",
       "      <td>446390.5678</td>\n",
       "    </tr>\n",
       "    <tr>\n",
       "      <th>딸기약국</th>\n",
       "      <td>207642.1445</td>\n",
       "      <td>458161.8328</td>\n",
       "    </tr>\n",
       "    <tr>\n",
       "      <th>새봄이온누리약국</th>\n",
       "      <td>171649.4169</td>\n",
       "      <td>459680.7989</td>\n",
       "    </tr>\n",
       "    <tr>\n",
       "      <th>햇살약국</th>\n",
       "      <td>167324.8246</td>\n",
       "      <td>460347.8841</td>\n",
       "    </tr>\n",
       "  </tbody>\n",
       "</table>\n",
       "<p>23675 rows × 2 columns</p>\n",
       "</div>"
      ],
      "text/plain": [
       "             longitude     latitude\n",
       "corp_name                          \n",
       "란약국        193786.8302  185954.5194\n",
       "메디팜건강약국    194075.2441  184984.4186\n",
       "좋은약국       193146.4005  186088.1065\n",
       "라포약국       194270.1072  184985.2783\n",
       "뷰티온누리약국    190911.6877  187580.1799\n",
       "...                ...          ...\n",
       "산들약국       212334.9585  450346.7907\n",
       "바라기한약국     204393.9045  446390.5678\n",
       "딸기약국       207642.1445  458161.8328\n",
       "새봄이온누리약국   171649.4169  459680.7989\n",
       "햇살약국       167324.8246  460347.8841\n",
       "\n",
       "[23675 rows x 2 columns]"
      ]
     },
     "execution_count": 38,
     "metadata": {},
     "output_type": "execute_result"
    }
   ],
   "source": [
    "ndf = pd.read_csv('./pharmacy_d.csv', encoding='cp949', usecols=['사업장명', '좌표정보(x)', '좌표정보(y)'])\n",
    "\n",
    "ndf['좌표정보(x)'] = pd.to_numeric(ndf['좌표정보(x)'], errors='coerce')\n",
    "ndf['좌표정보(y)'] = pd.to_numeric(ndf['좌표정보(y)'], errors='coerce')\n",
    "\n",
    "ndf = ndf.dropna()\n",
    "\n",
    "ndf.columns = ['corp_name', 'longitude', 'latitude']\n",
    "ndf = ndf.set_index('corp_name')\n",
    "\n",
    "ndf"
   ]
  },
  {
   "cell_type": "code",
   "execution_count": 39,
   "id": "0bad5a8d",
   "metadata": {},
   "outputs": [
    {
     "data": {
      "text/plain": [
       "array([[193786.8302, 185954.5194],\n",
       "       [194075.2441, 184984.4186],\n",
       "       [193146.4005, 186088.1065],\n",
       "       ...,\n",
       "       [207642.1445, 458161.8328],\n",
       "       [171649.4169, 459680.7989],\n",
       "       [167324.8246, 460347.8841]])"
      ]
     },
     "execution_count": 39,
     "metadata": {},
     "output_type": "execute_result"
    }
   ],
   "source": [
    "coord_n = np.array(ndf)\n",
    "coord_n"
   ]
  },
  {
   "cell_type": "code",
   "execution_count": 40,
   "id": "cf8a1a3c",
   "metadata": {},
   "outputs": [
    {
     "name": "stderr",
     "output_type": "stream",
     "text": [
      "C:\\Users\\by_wh\\anaconda3\\lib\\site-packages\\pyproj\\crs\\crs.py:130: FutureWarning: '+init=<authority>:<code>' syntax is deprecated. '<authority>:<code>' is the preferred initialization method. When making the change, be mindful of axis order changes: https://pyproj4.github.io/pyproj/stable/gotchas.html#axis-order-changes-in-proj-6\n",
      "  in_crs_string = _prepare_from_proj_string(in_crs_string)\n",
      "C:\\Users\\by_wh\\anaconda3\\lib\\site-packages\\pyproj\\crs\\crs.py:130: FutureWarning: '+init=<authority>:<code>' syntax is deprecated. '<authority>:<code>' is the preferred initialization method. When making the change, be mindful of axis order changes: https://pyproj4.github.io/pyproj/stable/gotchas.html#axis-order-changes-in-proj-6\n",
      "  in_crs_string = _prepare_from_proj_string(in_crs_string)\n",
      "C:\\Users\\by_wh\\AppData\\Local\\Temp/ipykernel_17840/3581348372.py:10: DeprecationWarning: This function is deprecated. See: https://pyproj4.github.io/pyproj/stable/gotchas.html#upgrading-to-pyproj-2-from-pyproj-1\n",
      "  fx, fy = pyproj.transform(p1, p2, coord[:, 0], coord[:, 1])\n"
     ]
    },
    {
     "data": {
      "text/plain": [
       "array([[126.92971436,  35.17274379],\n",
       "       [126.93288742,  35.16400152],\n",
       "       [126.92268301,  35.17394368],\n",
       "       ...,\n",
       "       [127.08446671,  37.62577367],\n",
       "       [126.67668799,  37.63905122],\n",
       "       [126.62766181,  37.64491751]])"
      ]
     },
     "execution_count": 40,
     "metadata": {},
     "output_type": "execute_result"
    }
   ],
   "source": [
    "p1_type = \"epsg:2097\"\n",
    "p2_type = \"epsg:4326\"\n",
    "\n",
    "result_n = project_array(coord_n, p1_type, p2_type)\n",
    "result_n"
   ]
  },
  {
   "cell_type": "code",
   "execution_count": 41,
   "id": "a53856e7",
   "metadata": {
    "scrolled": false
   },
   "outputs": [
    {
     "ename": "ValueError",
     "evalue": "Length of values (4378) does not match length of index (23675)",
     "output_type": "error",
     "traceback": [
      "\u001b[1;31m---------------------------------------------------------------------------\u001b[0m",
      "\u001b[1;31mValueError\u001b[0m                                Traceback (most recent call last)",
      "\u001b[1;32m~\\AppData\\Local\\Temp/ipykernel_17840/1311596387.py\u001b[0m in \u001b[0;36m<module>\u001b[1;34m\u001b[0m\n\u001b[1;32m----> 1\u001b[1;33m \u001b[0mndf\u001b[0m\u001b[1;33m[\u001b[0m\u001b[1;34m'longitude'\u001b[0m\u001b[1;33m]\u001b[0m \u001b[1;33m=\u001b[0m \u001b[0mresult\u001b[0m\u001b[1;33m[\u001b[0m\u001b[1;33m:\u001b[0m\u001b[1;33m,\u001b[0m \u001b[1;36m0\u001b[0m\u001b[1;33m]\u001b[0m\u001b[1;33m\u001b[0m\u001b[1;33m\u001b[0m\u001b[0m\n\u001b[0m\u001b[0;32m      2\u001b[0m \u001b[0mndf\u001b[0m\u001b[1;33m[\u001b[0m\u001b[1;34m'latitude'\u001b[0m\u001b[1;33m]\u001b[0m \u001b[1;33m=\u001b[0m \u001b[0mresult\u001b[0m\u001b[1;33m[\u001b[0m\u001b[1;33m:\u001b[0m\u001b[1;33m,\u001b[0m \u001b[1;36m1\u001b[0m\u001b[1;33m]\u001b[0m\u001b[1;33m\u001b[0m\u001b[1;33m\u001b[0m\u001b[0m\n\u001b[0;32m      3\u001b[0m \u001b[1;33m\u001b[0m\u001b[0m\n\u001b[0;32m      4\u001b[0m \u001b[0mndf\u001b[0m\u001b[1;33m.\u001b[0m\u001b[0mto_excel\u001b[0m\u001b[1;33m(\u001b[0m\u001b[1;34m'./Pharmacy_t.xlsx'\u001b[0m\u001b[1;33m)\u001b[0m\u001b[1;33m\u001b[0m\u001b[1;33m\u001b[0m\u001b[0m\n",
      "\u001b[1;32m~\\anaconda3\\lib\\site-packages\\pandas\\core\\frame.py\u001b[0m in \u001b[0;36m__setitem__\u001b[1;34m(self, key, value)\u001b[0m\n\u001b[0;32m   3610\u001b[0m         \u001b[1;32melse\u001b[0m\u001b[1;33m:\u001b[0m\u001b[1;33m\u001b[0m\u001b[1;33m\u001b[0m\u001b[0m\n\u001b[0;32m   3611\u001b[0m             \u001b[1;31m# set column\u001b[0m\u001b[1;33m\u001b[0m\u001b[1;33m\u001b[0m\u001b[0m\n\u001b[1;32m-> 3612\u001b[1;33m             \u001b[0mself\u001b[0m\u001b[1;33m.\u001b[0m\u001b[0m_set_item\u001b[0m\u001b[1;33m(\u001b[0m\u001b[0mkey\u001b[0m\u001b[1;33m,\u001b[0m \u001b[0mvalue\u001b[0m\u001b[1;33m)\u001b[0m\u001b[1;33m\u001b[0m\u001b[1;33m\u001b[0m\u001b[0m\n\u001b[0m\u001b[0;32m   3613\u001b[0m \u001b[1;33m\u001b[0m\u001b[0m\n\u001b[0;32m   3614\u001b[0m     \u001b[1;32mdef\u001b[0m \u001b[0m_setitem_slice\u001b[0m\u001b[1;33m(\u001b[0m\u001b[0mself\u001b[0m\u001b[1;33m,\u001b[0m \u001b[0mkey\u001b[0m\u001b[1;33m:\u001b[0m \u001b[0mslice\u001b[0m\u001b[1;33m,\u001b[0m \u001b[0mvalue\u001b[0m\u001b[1;33m)\u001b[0m\u001b[1;33m:\u001b[0m\u001b[1;33m\u001b[0m\u001b[1;33m\u001b[0m\u001b[0m\n",
      "\u001b[1;32m~\\anaconda3\\lib\\site-packages\\pandas\\core\\frame.py\u001b[0m in \u001b[0;36m_set_item\u001b[1;34m(self, key, value)\u001b[0m\n\u001b[0;32m   3782\u001b[0m         \u001b[0mensure\u001b[0m \u001b[0mhomogeneity\u001b[0m\u001b[1;33m.\u001b[0m\u001b[1;33m\u001b[0m\u001b[1;33m\u001b[0m\u001b[0m\n\u001b[0;32m   3783\u001b[0m         \"\"\"\n\u001b[1;32m-> 3784\u001b[1;33m         \u001b[0mvalue\u001b[0m \u001b[1;33m=\u001b[0m \u001b[0mself\u001b[0m\u001b[1;33m.\u001b[0m\u001b[0m_sanitize_column\u001b[0m\u001b[1;33m(\u001b[0m\u001b[0mvalue\u001b[0m\u001b[1;33m)\u001b[0m\u001b[1;33m\u001b[0m\u001b[1;33m\u001b[0m\u001b[0m\n\u001b[0m\u001b[0;32m   3785\u001b[0m \u001b[1;33m\u001b[0m\u001b[0m\n\u001b[0;32m   3786\u001b[0m         if (\n",
      "\u001b[1;32m~\\anaconda3\\lib\\site-packages\\pandas\\core\\frame.py\u001b[0m in \u001b[0;36m_sanitize_column\u001b[1;34m(self, value)\u001b[0m\n\u001b[0;32m   4507\u001b[0m \u001b[1;33m\u001b[0m\u001b[0m\n\u001b[0;32m   4508\u001b[0m         \u001b[1;32mif\u001b[0m \u001b[0mis_list_like\u001b[0m\u001b[1;33m(\u001b[0m\u001b[0mvalue\u001b[0m\u001b[1;33m)\u001b[0m\u001b[1;33m:\u001b[0m\u001b[1;33m\u001b[0m\u001b[1;33m\u001b[0m\u001b[0m\n\u001b[1;32m-> 4509\u001b[1;33m             \u001b[0mcom\u001b[0m\u001b[1;33m.\u001b[0m\u001b[0mrequire_length_match\u001b[0m\u001b[1;33m(\u001b[0m\u001b[0mvalue\u001b[0m\u001b[1;33m,\u001b[0m \u001b[0mself\u001b[0m\u001b[1;33m.\u001b[0m\u001b[0mindex\u001b[0m\u001b[1;33m)\u001b[0m\u001b[1;33m\u001b[0m\u001b[1;33m\u001b[0m\u001b[0m\n\u001b[0m\u001b[0;32m   4510\u001b[0m         \u001b[1;32mreturn\u001b[0m \u001b[0msanitize_array\u001b[0m\u001b[1;33m(\u001b[0m\u001b[0mvalue\u001b[0m\u001b[1;33m,\u001b[0m \u001b[0mself\u001b[0m\u001b[1;33m.\u001b[0m\u001b[0mindex\u001b[0m\u001b[1;33m,\u001b[0m \u001b[0mcopy\u001b[0m\u001b[1;33m=\u001b[0m\u001b[1;32mTrue\u001b[0m\u001b[1;33m,\u001b[0m \u001b[0mallow_2d\u001b[0m\u001b[1;33m=\u001b[0m\u001b[1;32mTrue\u001b[0m\u001b[1;33m)\u001b[0m\u001b[1;33m\u001b[0m\u001b[1;33m\u001b[0m\u001b[0m\n\u001b[0;32m   4511\u001b[0m \u001b[1;33m\u001b[0m\u001b[0m\n",
      "\u001b[1;32m~\\anaconda3\\lib\\site-packages\\pandas\\core\\common.py\u001b[0m in \u001b[0;36mrequire_length_match\u001b[1;34m(data, index)\u001b[0m\n\u001b[0;32m    529\u001b[0m     \"\"\"\n\u001b[0;32m    530\u001b[0m     \u001b[1;32mif\u001b[0m \u001b[0mlen\u001b[0m\u001b[1;33m(\u001b[0m\u001b[0mdata\u001b[0m\u001b[1;33m)\u001b[0m \u001b[1;33m!=\u001b[0m \u001b[0mlen\u001b[0m\u001b[1;33m(\u001b[0m\u001b[0mindex\u001b[0m\u001b[1;33m)\u001b[0m\u001b[1;33m:\u001b[0m\u001b[1;33m\u001b[0m\u001b[1;33m\u001b[0m\u001b[0m\n\u001b[1;32m--> 531\u001b[1;33m         raise ValueError(\n\u001b[0m\u001b[0;32m    532\u001b[0m             \u001b[1;34m\"Length of values \"\u001b[0m\u001b[1;33m\u001b[0m\u001b[1;33m\u001b[0m\u001b[0m\n\u001b[0;32m    533\u001b[0m             \u001b[1;34mf\"({len(data)}) \"\u001b[0m\u001b[1;33m\u001b[0m\u001b[1;33m\u001b[0m\u001b[0m\n",
      "\u001b[1;31mValueError\u001b[0m: Length of values (4378) does not match length of index (23675)"
     ]
    }
   ],
   "source": [
    "ndf['longitude'] = result[:, 0]\n",
    "ndf['latitude'] = result[:, 1]\n",
    "\n",
    "ndf.to_excel('./Pharmacy_t.xlsx')"
   ]
  },
  {
   "cell_type": "code",
   "execution_count": 1,
   "id": "d8a62b74",
   "metadata": {},
   "outputs": [],
   "source": [
    "import pandas as pd\n",
    "import numpy as np\n",
    "import pyproj\n",
    "import folium"
   ]
  },
  {
   "cell_type": "code",
   "execution_count": 2,
   "id": "69dff977",
   "metadata": {},
   "outputs": [
    {
     "data": {
      "text/html": [
       "<div>\n",
       "<style scoped>\n",
       "    .dataframe tbody tr th:only-of-type {\n",
       "        vertical-align: middle;\n",
       "    }\n",
       "\n",
       "    .dataframe tbody tr th {\n",
       "        vertical-align: top;\n",
       "    }\n",
       "\n",
       "    .dataframe thead th {\n",
       "        text-align: right;\n",
       "    }\n",
       "</style>\n",
       "<table border=\"1\" class=\"dataframe\">\n",
       "  <thead>\n",
       "    <tr style=\"text-align: right;\">\n",
       "      <th></th>\n",
       "      <th>corp_name</th>\n",
       "      <th>longitude</th>\n",
       "      <th>latitude</th>\n",
       "    </tr>\n",
       "  </thead>\n",
       "  <tbody>\n",
       "    <tr>\n",
       "      <th>0</th>\n",
       "      <td>의료법인 행복한의료재단 사천중앙요양병원</td>\n",
       "      <td>128.094054</td>\n",
       "      <td>35.079123</td>\n",
       "    </tr>\n",
       "    <tr>\n",
       "      <th>1</th>\n",
       "      <td>사천동희병원</td>\n",
       "      <td>128.091458</td>\n",
       "      <td>35.088314</td>\n",
       "    </tr>\n",
       "    <tr>\n",
       "      <th>2</th>\n",
       "      <td>의료법인 삼포의료재단 현대요양병원</td>\n",
       "      <td>128.062545</td>\n",
       "      <td>34.930365</td>\n",
       "    </tr>\n",
       "    <tr>\n",
       "      <th>3</th>\n",
       "      <td>양산병원</td>\n",
       "      <td>129.143769</td>\n",
       "      <td>35.401293</td>\n",
       "    </tr>\n",
       "    <tr>\n",
       "      <th>4</th>\n",
       "      <td>프라임요양병원</td>\n",
       "      <td>128.509310</td>\n",
       "      <td>35.578490</td>\n",
       "    </tr>\n",
       "    <tr>\n",
       "      <th>...</th>\n",
       "      <td>...</td>\n",
       "      <td>...</td>\n",
       "      <td>...</td>\n",
       "    </tr>\n",
       "    <tr>\n",
       "      <th>4373</th>\n",
       "      <td>푸른사랑병원</td>\n",
       "      <td>128.462026</td>\n",
       "      <td>37.183282</td>\n",
       "    </tr>\n",
       "    <tr>\n",
       "      <th>4374</th>\n",
       "      <td>미성의료재단 아름다운병원</td>\n",
       "      <td>127.880328</td>\n",
       "      <td>37.688163</td>\n",
       "    </tr>\n",
       "    <tr>\n",
       "      <th>4375</th>\n",
       "      <td>영광병원</td>\n",
       "      <td>127.988810</td>\n",
       "      <td>37.335833</td>\n",
       "    </tr>\n",
       "    <tr>\n",
       "      <th>4376</th>\n",
       "      <td>인제고려병원</td>\n",
       "      <td>128.171553</td>\n",
       "      <td>38.070524</td>\n",
       "    </tr>\n",
       "    <tr>\n",
       "      <th>4377</th>\n",
       "      <td>의료법인 리노의료재단 유성웰니스재활병원</td>\n",
       "      <td>127.345283</td>\n",
       "      <td>36.352447</td>\n",
       "    </tr>\n",
       "  </tbody>\n",
       "</table>\n",
       "<p>4378 rows × 3 columns</p>\n",
       "</div>"
      ],
      "text/plain": [
       "                  corp_name   longitude   latitude\n",
       "0     의료법인 행복한의료재단 사천중앙요양병원  128.094054  35.079123\n",
       "1                    사천동희병원  128.091458  35.088314\n",
       "2        의료법인 삼포의료재단 현대요양병원  128.062545  34.930365\n",
       "3                      양산병원  129.143769  35.401293\n",
       "4                   프라임요양병원  128.509310  35.578490\n",
       "...                     ...         ...        ...\n",
       "4373                 푸른사랑병원  128.462026  37.183282\n",
       "4374          미성의료재단 아름다운병원  127.880328  37.688163\n",
       "4375                   영광병원  127.988810  37.335833\n",
       "4376                 인제고려병원  128.171553  38.070524\n",
       "4377  의료법인 리노의료재단 유성웰니스재활병원  127.345283  36.352447\n",
       "\n",
       "[4378 rows x 3 columns]"
      ]
     },
     "execution_count": 2,
     "metadata": {},
     "output_type": "execute_result"
    }
   ],
   "source": [
    "df = pd.read_json('./Hospital_t .json')\n",
    "\n",
    "df"
   ]
  },
  {
   "cell_type": "code",
   "execution_count": 3,
   "id": "336ef2d0",
   "metadata": {},
   "outputs": [
    {
     "data": {
      "text/html": [
       "<div style=\"width:100%;\"><div style=\"position:relative;width:100%;height:0;padding-bottom:60%;\"><span style=\"color:#565656\">Make this Notebook Trusted to load map: File -> Trust Notebook</span><iframe srcdoc=\"&lt;!DOCTYPE html&gt;\n",
       "&lt;head&gt;    \n",
       "    &lt;meta http-equiv=&quot;content-type&quot; content=&quot;text/html; charset=UTF-8&quot; /&gt;\n",
       "    \n",
       "        &lt;script&gt;\n",
       "            L_NO_TOUCH = false;\n",
       "            L_DISABLE_3D = false;\n",
       "        &lt;/script&gt;\n",
       "    \n",
       "    &lt;style&gt;html, body {width: 100%;height: 100%;margin: 0;padding: 0;}&lt;/style&gt;\n",
       "    &lt;style&gt;#map {position:absolute;top:0;bottom:0;right:0;left:0;}&lt;/style&gt;\n",
       "    &lt;script src=&quot;https://cdn.jsdelivr.net/npm/leaflet@1.6.0/dist/leaflet.js&quot;&gt;&lt;/script&gt;\n",
       "    &lt;script src=&quot;https://code.jquery.com/jquery-1.12.4.min.js&quot;&gt;&lt;/script&gt;\n",
       "    &lt;script src=&quot;https://maxcdn.bootstrapcdn.com/bootstrap/3.2.0/js/bootstrap.min.js&quot;&gt;&lt;/script&gt;\n",
       "    &lt;script src=&quot;https://cdnjs.cloudflare.com/ajax/libs/Leaflet.awesome-markers/2.0.2/leaflet.awesome-markers.js&quot;&gt;&lt;/script&gt;\n",
       "    &lt;link rel=&quot;stylesheet&quot; href=&quot;https://cdn.jsdelivr.net/npm/leaflet@1.6.0/dist/leaflet.css&quot;/&gt;\n",
       "    &lt;link rel=&quot;stylesheet&quot; href=&quot;https://maxcdn.bootstrapcdn.com/bootstrap/3.2.0/css/bootstrap.min.css&quot;/&gt;\n",
       "    &lt;link rel=&quot;stylesheet&quot; href=&quot;https://maxcdn.bootstrapcdn.com/bootstrap/3.2.0/css/bootstrap-theme.min.css&quot;/&gt;\n",
       "    &lt;link rel=&quot;stylesheet&quot; href=&quot;https://maxcdn.bootstrapcdn.com/font-awesome/4.6.3/css/font-awesome.min.css&quot;/&gt;\n",
       "    &lt;link rel=&quot;stylesheet&quot; href=&quot;https://cdnjs.cloudflare.com/ajax/libs/Leaflet.awesome-markers/2.0.2/leaflet.awesome-markers.css&quot;/&gt;\n",
       "    &lt;link rel=&quot;stylesheet&quot; href=&quot;https://cdn.jsdelivr.net/gh/python-visualization/folium/folium/templates/leaflet.awesome.rotate.min.css&quot;/&gt;\n",
       "    \n",
       "            &lt;meta name=&quot;viewport&quot; content=&quot;width=device-width,\n",
       "                initial-scale=1.0, maximum-scale=1.0, user-scalable=no&quot; /&gt;\n",
       "            &lt;style&gt;\n",
       "                #map_e769c56337b4404c12e6cb1cb486499d {\n",
       "                    position: relative;\n",
       "                    width: 100.0%;\n",
       "                    height: 100.0%;\n",
       "                    left: 0.0%;\n",
       "                    top: 0.0%;\n",
       "                }\n",
       "            &lt;/style&gt;\n",
       "        \n",
       "&lt;/head&gt;\n",
       "&lt;body&gt;    \n",
       "    \n",
       "            &lt;div class=&quot;folium-map&quot; id=&quot;map_e769c56337b4404c12e6cb1cb486499d&quot; &gt;&lt;/div&gt;\n",
       "        \n",
       "&lt;/body&gt;\n",
       "&lt;script&gt;    \n",
       "    \n",
       "            var map_e769c56337b4404c12e6cb1cb486499d = L.map(\n",
       "                &quot;map_e769c56337b4404c12e6cb1cb486499d&quot;,\n",
       "                {\n",
       "                    center: [36.7888, 127.852],\n",
       "                    crs: L.CRS.EPSG3857,\n",
       "                    zoom: 7,\n",
       "                    zoomControl: true,\n",
       "                    preferCanvas: false,\n",
       "                }\n",
       "            );\n",
       "\n",
       "            \n",
       "\n",
       "        \n",
       "    \n",
       "            var tile_layer_faf192dd30955bc57e10dc6f4dc0c838 = L.tileLayer(\n",
       "                &quot;https://cartodb-basemaps-{s}.global.ssl.fastly.net/light_all/{z}/{x}/{y}.png&quot;,\n",
       "                {&quot;attribution&quot;: &quot;\\u0026copy; \\u003ca href=\\&quot;http://www.openstreetmap.org/copyright\\&quot;\\u003eOpenStreetMap\\u003c/a\\u003e contributors \\u0026copy; \\u003ca href=\\&quot;http://cartodb.com/attributions\\&quot;\\u003eCartoDB\\u003c/a\\u003e, CartoDB \\u003ca href =\\&quot;http://cartodb.com/attributions\\&quot;\\u003eattributions\\u003c/a\\u003e&quot;, &quot;detectRetina&quot;: false, &quot;maxNativeZoom&quot;: 18, &quot;maxZoom&quot;: 18, &quot;minZoom&quot;: 0, &quot;noWrap&quot;: false, &quot;opacity&quot;: 1, &quot;subdomains&quot;: &quot;abc&quot;, &quot;tms&quot;: false}\n",
       "            ).addTo(map_e769c56337b4404c12e6cb1cb486499d);\n",
       "        \n",
       "&lt;/script&gt;\" style=\"position:absolute;width:100%;height:100%;left:0;top:0;border:none !important;\" allowfullscreen webkitallowfullscreen mozallowfullscreen></iframe></div></div>"
      ],
      "text/plain": [
       "<folium.folium.Map at 0x231b392f910>"
      ]
     },
     "execution_count": 3,
     "metadata": {},
     "output_type": "execute_result"
    }
   ],
   "source": [
    "korea_map = folium.Map(location=[36.7888, 127.852], zoom_start= 7, tiles = 'CartoDB positron')\n",
    "\n",
    "korea_map"
   ]
  },
  {
   "cell_type": "code",
   "execution_count": 6,
   "id": "f8b5d38d",
   "metadata": {
    "scrolled": false
   },
   "outputs": [],
   "source": [
    "for name, lat, lng in zip(df.corp_name, df.latitude, df.longitude):\n",
    "    folium.Marker([lat, lng], popup=name).add_to(korea_map)\n",
    "\n",
    "korea_map"
   ]
  },
  {
   "cell_type": "code",
   "execution_count": null,
   "id": "6e54f34f",
   "metadata": {},
   "outputs": [],
   "source": []
  }
 ],
 "metadata": {
  "kernelspec": {
   "display_name": "Python 3 (ipykernel)",
   "language": "python",
   "name": "python3"
  },
  "language_info": {
   "codemirror_mode": {
    "name": "ipython",
    "version": 3
   },
   "file_extension": ".py",
   "mimetype": "text/x-python",
   "name": "python",
   "nbconvert_exporter": "python",
   "pygments_lexer": "ipython3",
   "version": "3.9.7"
  }
 },
 "nbformat": 4,
 "nbformat_minor": 5
}
